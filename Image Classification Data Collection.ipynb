{
 "cells": [
  {
   "cell_type": "markdown",
   "id": "478587dc",
   "metadata": {},
   "source": [
    "### Importing Necessary Libraries"
   ]
  },
  {
   "cell_type": "code",
   "execution_count": 1,
   "id": "8a00ed91",
   "metadata": {},
   "outputs": [],
   "source": [
    "import pandas as pd\n",
    "import selenium \n",
    "from selenium import webdriver\n",
    "import time\n",
    "from selenium.webdriver.common.keys import Keys\n",
    "import re\n",
    "import os\n",
    "import requests"
   ]
  },
  {
   "cell_type": "code",
   "execution_count": 2,
   "id": "5aaaabee",
   "metadata": {},
   "outputs": [],
   "source": [
    "# Instantiating Chrome Driver\n",
    "\n",
    "Path = 'C:\\Program Files (x86)\\chromedriver.exe'\n",
    "\n",
    "driver = webdriver.Chrome(Path)"
   ]
  },
  {
   "cell_type": "markdown",
   "id": "d994e2b9",
   "metadata": {},
   "source": [
    "## Data Collection of Sarees"
   ]
  },
  {
   "cell_type": "code",
   "execution_count": 3,
   "id": "889f2575",
   "metadata": {},
   "outputs": [],
   "source": [
    "#Fetching Amazon website\n",
    "driver.get(\"https://www.amazon.in\")"
   ]
  },
  {
   "cell_type": "code",
   "execution_count": 4,
   "id": "c4aedd87",
   "metadata": {},
   "outputs": [
    {
     "name": "stdout",
     "output_type": "stream",
     "text": [
      "Saree\n"
     ]
    }
   ],
   "source": [
    "## User Input Search Bar\n",
    "search = driver.find_element_by_xpath(\"//input[@class = 'nav-input nav-progressive-attribute']\")\n",
    "search.send_keys(input())"
   ]
  },
  {
   "cell_type": "code",
   "execution_count": 5,
   "id": "72e51829",
   "metadata": {},
   "outputs": [],
   "source": [
    "# Hitting the Search button\n",
    "btn = driver.find_element_by_xpath(\"//div[@class='nav-right']\")\n",
    "btn.click()"
   ]
  },
  {
   "cell_type": "code",
   "execution_count": 6,
   "id": "878dc7ac",
   "metadata": {},
   "outputs": [],
   "source": [
    "value = 0\n",
    "for i in range(20): \n",
    "    driver.execute_script('scrollBy(\"+ str(value) +\",+100);')\n",
    "    value += 100\n",
    "    time.sleep(4)"
   ]
  },
  {
   "cell_type": "code",
   "execution_count": 7,
   "id": "16367310",
   "metadata": {},
   "outputs": [],
   "source": [
    "url = []\n",
    "\n",
    "lk = driver.find_elements_by_xpath(\"//a[@class='a-link-normal s-no-outline']\")\n",
    "for i in lk:\n",
    "    url.append(i.get_attribute('href'))"
   ]
  },
  {
   "cell_type": "code",
   "execution_count": 8,
   "id": "fcfe8ddd",
   "metadata": {},
   "outputs": [],
   "source": [
    "urls = []\n",
    "data = []\n",
    "    \n",
    "for i in url:\n",
    "    data = driver.find_elements_by_xpath('//img[@class=\"s-image\"]')\n",
    "    for img in data:\n",
    "        source = img.get_attribute('src')\n",
    "        if source is not None:\n",
    "            if(source[0:5] == 'https'):\n",
    "                urls.append(source)\n",
    "    \n",
    "for i in range(len(urls)):\n",
    "    if i >=300:\n",
    "        break   \n",
    "    response= requests.get(urls[i])\n",
    "    file = open(r\"C:\\Users\\Lakshita\\anaconda3\\envs\\old_tensor\\Image Classification\\Images Data\\Saree\"+str(i)+\".jpg\", \"wb\")\n",
    "    file.write(response.content)"
   ]
  },
  {
   "cell_type": "markdown",
   "id": "eba2f5ae",
   "metadata": {},
   "source": [
    "### Data Collection of Jeans(Men)"
   ]
  },
  {
   "cell_type": "code",
   "execution_count": 9,
   "id": "b1d001e5",
   "metadata": {},
   "outputs": [
    {
     "name": "stdout",
     "output_type": "stream",
     "text": [
      "Jeans Men\n"
     ]
    }
   ],
   "source": [
    "driver.get(\"https://www.amazon.in\")\n",
    "\n",
    "## User Input Search Bar\n",
    "search = driver.find_element_by_xpath(\"//input[@class = 'nav-input nav-progressive-attribute']\")\n",
    "search.send_keys(input())\n",
    "\n",
    "# Hitting the Search button\n",
    "btn = driver.find_element_by_xpath(\"//div[@class='nav-right']\")\n",
    "btn.click()"
   ]
  },
  {
   "cell_type": "code",
   "execution_count": 10,
   "id": "18620694",
   "metadata": {},
   "outputs": [],
   "source": [
    "value = 0\n",
    "for i in range(20): \n",
    "    driver.execute_script('scrollBy(\"+ str(value) +\",+100);')\n",
    "    value += 100\n",
    "    time.sleep(4)\n",
    "    \n",
    "url = []\n",
    "\n",
    "lk = driver.find_elements_by_xpath(\"//a[@class='a-link-normal s-no-outline']\")\n",
    "for i in lk:\n",
    "    url.append(i.get_attribute('href'))"
   ]
  },
  {
   "cell_type": "code",
   "execution_count": 11,
   "id": "f91562b5",
   "metadata": {},
   "outputs": [],
   "source": [
    "urls = []\n",
    "data = []\n",
    "    \n",
    "for i in url:\n",
    "    data = driver.find_elements_by_xpath('//img[@class=\"s-image\"]')\n",
    "    for img in data:\n",
    "        source = img.get_attribute('src')\n",
    "        if source is not None:\n",
    "            if(source[0:5] == 'https'):\n",
    "                urls.append(source)\n",
    "    \n",
    "for i in range(len(urls)):\n",
    "    if i >=300:\n",
    "        break   \n",
    "    response= requests.get(urls[i])\n",
    "    file = open(r\"C:\\Users\\Lakshita\\anaconda3\\envs\\old_tensor\\Image Classification\\Images Data\\Jeans(Men)\"+str(i)+\".jpg\", \"wb\")\n",
    "    file.write(response.content)"
   ]
  },
  {
   "cell_type": "markdown",
   "id": "0ba8da78",
   "metadata": {},
   "source": [
    "### Data Collection of Trousers(Men)"
   ]
  },
  {
   "cell_type": "code",
   "execution_count": 12,
   "id": "dc473ece",
   "metadata": {},
   "outputs": [
    {
     "name": "stdout",
     "output_type": "stream",
     "text": [
      "Trousers Men\n"
     ]
    }
   ],
   "source": [
    "driver.get(\"https://www.amazon.in\")\n",
    "\n",
    "## User Input Search Bar\n",
    "search = driver.find_element_by_xpath(\"//input[@class = 'nav-input nav-progressive-attribute']\")\n",
    "search.send_keys(input())\n",
    "\n",
    "# Hitting the Search button\n",
    "btn = driver.find_element_by_xpath(\"//div[@class='nav-right']\")\n",
    "btn.click()"
   ]
  },
  {
   "cell_type": "code",
   "execution_count": 13,
   "id": "1501ceb7",
   "metadata": {},
   "outputs": [],
   "source": [
    "value = 0\n",
    "for i in range(20): \n",
    "    driver.execute_script('scrollBy(\"+ str(value) +\",+100);')\n",
    "    value += 100\n",
    "    time.sleep(4)\n",
    "    \n",
    "url = []\n",
    "\n",
    "lk = driver.find_elements_by_xpath(\"//a[@class='a-link-normal s-no-outline']\")\n",
    "for i in lk:\n",
    "    url.append(i.get_attribute('href'))"
   ]
  },
  {
   "cell_type": "code",
   "execution_count": 14,
   "id": "a613c97d",
   "metadata": {},
   "outputs": [],
   "source": [
    "urls = []\n",
    "data = []\n",
    "    \n",
    "for i in url:\n",
    "    data = driver.find_elements_by_xpath('//img[@class=\"s-image\"]')\n",
    "    for img in data:\n",
    "        source = img.get_attribute('src')\n",
    "        if source is not None:\n",
    "            if(source[0:5] == 'https'):\n",
    "                urls.append(source)\n",
    "    \n",
    "for i in range(len(urls)):\n",
    "    if i >=300:\n",
    "        break   \n",
    "    response= requests.get(urls[i])\n",
    "    file = open(r\"C:\\Users\\Lakshita\\anaconda3\\envs\\old_tensor\\Image Classification\\Images Data\\Trousers(Men)\"+str(i)+\".jpg\", \"wb\")\n",
    "    file.write(response.content)"
   ]
  }
 ],
 "metadata": {
  "kernelspec": {
   "display_name": "Python 3",
   "language": "python",
   "name": "python3"
  },
  "language_info": {
   "codemirror_mode": {
    "name": "ipython",
    "version": 3
   },
   "file_extension": ".py",
   "mimetype": "text/x-python",
   "name": "python",
   "nbconvert_exporter": "python",
   "pygments_lexer": "ipython3",
   "version": "3.8.8"
  }
 },
 "nbformat": 4,
 "nbformat_minor": 5
}
